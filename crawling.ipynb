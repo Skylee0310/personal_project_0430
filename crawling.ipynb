{
 "cells": [
  {
   "cell_type": "code",
   "execution_count": 2,
   "metadata": {},
   "outputs": [],
   "source": [
    "# 크롤링\n",
    "\n",
    "import requests\n",
    "from bs4 import BeautifulSoup\n",
    "from selenium import webdriver\n",
    "import time # 페이지 로딩을 기다리는데에 사용"
   ]
  },
  {
   "cell_type": "code",
   "execution_count": 3,
   "metadata": {},
   "outputs": [],
   "source": [
    "#driver = webdriver.Chrome()"
   ]
  },
  {
   "cell_type": "code",
   "execution_count": 4,
   "metadata": {},
   "outputs": [],
   "source": [
    "# url_rap = \"https://kleocean.com/%ed%86%a0%ed%94%bd-1%ea%b8%89-%ec%96%b4%ed%9c%98-%ed%86%b5%ed%95%a9-%eb%aa%a9%eb%a1%9d-topik-level-1-accumulate-list/?_gl=1*c8d4qn*_ga*MTY0MjA2NDA0LjE3MTQwNDU4NzA.*_ga_YSX3LG8JLF*MTcxNDA0NTg2OS4xLjEuMTcxNDA0NzMyNy41Ny4wLjA.*_ga_LRF15CJGG1*MTcxNDA0NTg2OS4xLjEuMTcxNDA0NzMyNy41Ny4wLjA.\"\n",
    "\n",
    "# # 웹페이지 가져오기\n",
    "# driver.get(url_rap)\n",
    "\n",
    "# time.sleep(5)\n",
    "\n",
    "# # 페이지 소스 가져오기\n",
    "# html = driver.page_source\n",
    "\n",
    "# # 페이지 소스 출력\n",
    "# soup = BeautifulSoup(html, 'html.parser')\n",
    "\n",
    "# #print(soup.text)\n",
    "\n",
    "# file_path = \"output.txt\"\n",
    "\n",
    "# with open(file_path, \"w\", encoding=\"utf-8\") as file :\n",
    "#     file.write(soup.text)\n",
    "\n",
    "# print(file_path, \"파일 저장 완료\")\n",
    "\n",
    "# # 웹 드라이버 종료\n",
    "# driver.quit()"
   ]
  },
  {
   "cell_type": "code",
   "execution_count": 5,
   "metadata": {},
   "outputs": [],
   "source": [
    "def crawling_txt(url, rate) :\n",
    "\n",
    "    driver = webdriver.Chrome()\n",
    "\n",
    "    # 웹페이지 가져오기\n",
    "    driver.get(url)\n",
    "\n",
    "    time.sleep(5)\n",
    "\n",
    "    # 페이지 소스 가져오기\n",
    "    html = driver.page_source\n",
    "\n",
    "    # 페이지 소스 출력\n",
    "    soup = BeautifulSoup(html, 'html.parser')\n",
    "\n",
    "    #print(soup.text)\n",
    "\n",
    "    file_path = f\"{rate}.txt\"\n",
    "\n",
    "    with open(file_path, \"w\", encoding=\"utf-8\") as file :\n",
    "        file.write(soup.text)\n",
    "\n",
    "    print(file_path, \"파일 저장 완료\")\n",
    "\n",
    "    time.sleep(5)\n",
    "    \n",
    "    # 웹 드라이버 종료\n",
    "    driver.quit()"
   ]
  },
  {
   "cell_type": "code",
   "execution_count": 6,
   "metadata": {},
   "outputs": [],
   "source": [
    "url1 = \"https://kleocean.com/%ed%95%9c%ea%b5%ad%ec%96%b4%eb%8a%a5%eb%a0%a5%ec%8b%9c%ed%97%98-%ed%86%a0%ed%94%bd-%ec%b4%88%ea%b8%89-%ec%96%b4%ed%9c%98-%ed%86%b5%ed%95%a9-%eb%aa%a9%eb%a1%9d-topik-i-accumulate-list/?_gl=1*hgssil*_ga*MTY0MjA2NDA0LjE3MTQwNDU4NzA.*_ga_YSX3LG8JLF*MTcxNDExOTk3Ny40LjEuMTcxNDEyMTAzMy41NC4wLjA.*_ga_LRF15CJGG1*MTcxNDExOTk3Ny40LjEuMTcxNDEyMTAzMy41NC4wLjA.\"\n",
    "crawling_txt(url1, './txt/topikI')"
   ]
  },
  {
   "cell_type": "code",
   "execution_count": 7,
   "metadata": {},
   "outputs": [],
   "source": [
    "#url1 = \"https://kleocean.com/%ed%86%a0%ed%94%bd-1%ea%b8%89-%eb%aa%85%ec%82%ac-%eb%aa%a9%eb%a1%9d-topik-level-1-noun-list/?_gl=1*dr42v0*_ga*MTY0MjA2NDA0LjE3MTQwNDU4NzA.*_ga_LRF15CJGG1*MTcxNDA0NTg2OS4xLjEuMTcxNDA0ODE3My40NC4wLjA.*_ga_YSX3LG8JLF*MTcxNDA0NTg2OS4xLjEuMTcxNDA0ODE3My40NC4wLjA.\"\n",
    "#crawling_txt(url1, \"1noun\")\n"
   ]
  },
  {
   "cell_type": "code",
   "execution_count": 8,
   "metadata": {},
   "outputs": [],
   "source": [
    "\n",
    "#url2 = \"https://kleocean.com/%ed%86%a0%ed%94%bd-1%ea%b8%89-%eb%8f%99%ec%82%ac-%eb%aa%a9%eb%a1%9d-topik-level-1-verb-list/?_gl=1*1s88r5z*_ga*MTY0MjA2NDA0LjE3MTQwNDU4NzA.*_ga_LRF15CJGG1*MTcxNDA0NTg2OS4xLjEuMTcxNDA0ODQwMy41OS4wLjA.*_ga_YSX3LG8JLF*MTcxNDA0NTg2OS4xLjEuMTcxNDA0ODQwMy41OS4wLjA.\"\n",
    "#crawling_txt(url2, \"1verb\")\n",
    "\n"
   ]
  },
  {
   "cell_type": "code",
   "execution_count": 9,
   "metadata": {},
   "outputs": [],
   "source": [
    "#url3 = \"https://kleocean.com/%ed%86%a0%ed%94%bd-1%ea%b8%89-%ed%98%95%ec%9a%a9%ec%82%ac-%eb%b6%80%ec%82%ac-%eb%aa%a9%eb%a1%9d-topik-level-1-adjectiveadverb-list/?_gl=1*1hamrbg*_ga*MTY0MjA2NDA0LjE3MTQwNDU4NzA.*_ga_YSX3LG8JLF*MTcxNDA0NTg2OS4xLjEuMTcxNDA0ODUwMy41OS4wLjA.*_ga_LRF15CJGG1*MTcxNDA0NTg2OS4xLjEuMTcxNDA0ODUwMy41OS4wLjA.\"\n",
    "#crawling_txt(url3, \"1adj\")"
   ]
  },
  {
   "cell_type": "code",
   "execution_count": 10,
   "metadata": {},
   "outputs": [],
   "source": [
    "# url4 = \"https://kleocean.com/%ed%86%a0%ed%94%bd-2%ea%b8%89-%eb%aa%85%ec%82%ac-%eb%aa%a9%eb%a1%9d-topik-level-2-noun-list/?_gl=1*r91kbh*_ga*MTY0MjA2NDA0LjE3MTQwNDU4NzA.*_ga_YSX3LG8JLF*MTcxNDA0NTg2OS4xLjEuMTcxNDA0ODUyOS4zMy4wLjA.*_ga_LRF15CJGG1*MTcxNDA0NTg2OS4xLjEuMTcxNDA0ODUyOS4zMy4wLjA.\"\n",
    "# crawling_txt(url4, \"2noun\")"
   ]
  },
  {
   "cell_type": "code",
   "execution_count": 11,
   "metadata": {},
   "outputs": [],
   "source": [
    "# url5 = \"https://kleocean.com/%ed%86%a0%ed%94%bd-2%ea%b8%89-%eb%8f%99%ec%82%ac-%eb%aa%a9%eb%a1%9d-topik-level-2-verb-list/?_gl=1*1ge1w5t*_ga*MTY0MjA2NDA0LjE3MTQwNDU4NzA.*_ga_LRF15CJGG1*MTcxNDA0NTg2OS4xLjEuMTcxNDA0OTM3Ni42MC4wLjA.*_ga_YSX3LG8JLF*MTcxNDA0NTg2OS4xLjEuMTcxNDA0OTM3Ni42MC4wLjA.\"\n",
    "# crawling_txt(url5, \"2verb\")"
   ]
  },
  {
   "cell_type": "code",
   "execution_count": 12,
   "metadata": {},
   "outputs": [],
   "source": [
    "# url6 = \"https://kleocean.com/%ed%86%a0%ed%94%bd-2%ea%b8%89-%ed%98%95%ec%9a%a9%ec%82%ac-%eb%b6%80%ec%82%ac-%eb%aa%a9%eb%a1%9d-topik-level-2-adjectiveadverb-list/?_gl=1*18e4rh0*_ga*MTY0MjA2NDA0LjE3MTQwNDU4NzA.*_ga_YSX3LG8JLF*MTcxNDA0NTg2OS4xLjEuMTcxNDA0OTQwNC4zMi4wLjA.*_ga_LRF15CJGG1*MTcxNDA0NTg2OS4xLjEuMTcxNDA0OTQwNC4zMi4wLjA.\"\n",
    "# crawling_txt(url6, \"2adj\")"
   ]
  },
  {
   "cell_type": "code",
   "execution_count": 13,
   "metadata": {},
   "outputs": [],
   "source": [
    "# url7 = \"https://kleocean.com/%ed%86%a0%ed%94%bd-3%ea%b8%89-%ec%96%b4%ed%9c%98-%ed%86%b5%ed%95%a9-%eb%aa%a9%eb%a1%9d-topik-level-3-accumulate-list/?_gl=1*1emi48f*_ga*MTY0MjA2NDA0LjE3MTQwNDU4NzA.*_ga_LRF15CJGG1*MTcxNDA0NTg2OS4xLjEuMTcxNDA0OTU1NS41OC4wLjA.*_ga_YSX3LG8JLF*MTcxNDA0NTg2OS4xLjEuMTcxNDA0OTU1NS41OC4wLjA.\"\n",
    "\n",
    "# crawling_txt(url7, \"3rate\")"
   ]
  },
  {
   "cell_type": "code",
   "execution_count": 14,
   "metadata": {},
   "outputs": [],
   "source": [
    "# url8= \"https://kleocean.com/%ed%86%a0%ed%94%bd-3%ea%b8%89-%ec%96%b4%ed%9c%98-%ed%86%b5%ed%95%a9-%eb%aa%a9%eb%a1%9d-topik-level-3-accumulate-list/?_gl=1*1emi48f*_ga*MTY0MjA2NDA0LjE3MTQwNDU4NzA.*_ga_LRF15CJGG1*MTcxNDA0NTg2OS4xLjEuMTcxNDA0OTU1NS41OC4wLjA.*_ga_YSX3LG8JLF*MTcxNDA0NTg2OS4xLjEuMTcxNDA0OTU1NS41OC4wLjA.\"\n",
    "\n",
    "# crawling_txt(url8, \"4rate\")"
   ]
  },
  {
   "cell_type": "code",
   "execution_count": 15,
   "metadata": {},
   "outputs": [],
   "source": [
    "# url9 = \"https://kleocean.com/%ed%86%a0%ed%94%bd-5%ea%b8%89-%ec%96%b4%ed%9c%98-%ed%86%b5%ed%95%a9-%eb%aa%a9%eb%a1%9d-topik-level-5-accumulate-list/?_gl=1*7gn86a*_ga*MTY0MjA2NDA0LjE3MTQwNDU4NzA.*_ga_YSX3LG8JLF*MTcxNDA0NTg2OS4xLjEuMTcxNDA0OTU4NC4yOS4wLjA.*_ga_LRF15CJGG1*MTcxNDA0NTg2OS4xLjEuMTcxNDA0OTU4NC4yOS4wLjA.\"\n",
    "# crawling_txt(url9, \"5rate\")"
   ]
  },
  {
   "cell_type": "code",
   "execution_count": 16,
   "metadata": {},
   "outputs": [],
   "source": [
    "# url10 = \"https://kleocean.com/%ed%86%a0%ed%94%bd-6%ea%b8%89-%ec%96%b4%ed%9c%98-%ed%86%b5%ed%95%a9-%eb%aa%a9%eb%a1%9d-topik-level-6-accumulate-list/?_gl=1*1yzouhu*_ga*MTY0MjA2NDA0LjE3MTQwNDU4NzA.*_ga_YSX3LG8JLF*MTcxNDA0NTg2OS4xLjEuMTcxNDA0OTc2My4yMC4wLjA.*_ga_LRF15CJGG1*MTcxNDA0NTg2OS4xLjEuMTcxNDA0OTc2My4yMC4wLjA.\"\n",
    "# crawling_txt(url10, \"6rate\")"
   ]
  },
  {
   "cell_type": "code",
   "execution_count": 17,
   "metadata": {},
   "outputs": [],
   "source": [
    "#url1 = \"https://kleocean.com/%ed%86%a0%ed%94%bd-1%ea%b8%89-%ec%96%b4%ed%9c%98-%ed%86%b5%ed%95%a9-%eb%aa%a9%eb%a1%9d-topik-level-1-accumulate-list/?_gl=1*14hscq9*_ga*MTY0MjA2NDA0LjE3MTQwNDU4NzA.*_ga_LRF15CJGG1*MTcxNDA0NTg2OS4xLjEuMTcxNDA0OTkxNy41OC4wLjA.*_ga_YSX3LG8JLF*MTcxNDA0NTg2OS4xLjEuMTcxNDA0OTkxNy41OC4wLjA.\"\n",
    "#crawling_txt(url1, \"1rate\")"
   ]
  },
  {
   "cell_type": "code",
   "execution_count": 18,
   "metadata": {},
   "outputs": [],
   "source": [
    "#url2 = \"https://kleocean.com/%ed%86%a0%ed%94%bd-2%ea%b8%89-%ec%96%b4%ed%9c%98-%ed%86%b5%ed%95%a9-%eb%aa%a9%eb%a1%9d-topik-level-2-accumulate-list/?_gl=1*1gj1psu*_ga*MTY0MjA2NDA0LjE3MTQwNDU4NzA.*_ga_YSX3LG8JLF*MTcxNDA4ODYyMC4yLjEuMTcxNDA4ODY4Mi41OC4wLjA.*_ga_LRF15CJGG1*MTcxNDA4ODYyMC4yLjEuMTcxNDA4ODY4Mi41OS4wLjA.\"\n",
    "#crawling_txt(url2, \"2rate\")"
   ]
  },
  {
   "cell_type": "code",
   "execution_count": 19,
   "metadata": {},
   "outputs": [
    {
     "name": "stdout",
     "output_type": "stream",
     "text": [
      "./txt/topik_jp.txt 파일 저장 완료\n"
     ]
    }
   ],
   "source": [
    "#\n",
    "url0 = \"https://trilingual.jp/jako/20190128-751/\"\n",
    "crawling_txt(url0, './txt/topik_jp')"
   ]
  },
  {
   "cell_type": "code",
   "execution_count": null,
   "metadata": {},
   "outputs": [],
   "source": []
  }
 ],
 "metadata": {
  "kernelspec": {
   "display_name": "base",
   "language": "python",
   "name": "python3"
  },
  "language_info": {
   "codemirror_mode": {
    "name": "ipython",
    "version": 3
   },
   "file_extension": ".py",
   "mimetype": "text/x-python",
   "name": "python",
   "nbconvert_exporter": "python",
   "pygments_lexer": "ipython3",
   "version": "3.11.5"
  }
 },
 "nbformat": 4,
 "nbformat_minor": 2
}
